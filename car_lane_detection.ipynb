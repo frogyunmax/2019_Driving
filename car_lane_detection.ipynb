{
 "cells": [
  {
   "cell_type": "markdown",
   "metadata": {},
   "source": [
    "## car_lane_detection\n",
    "### 2019-1 과제연구 (Driving)\n",
    "***\n"
   ]
  },
  {
   "cell_type": "code",
   "execution_count": 1,
   "metadata": {},
   "outputs": [
    {
     "name": "stdout",
     "output_type": "stream",
     "text": [
      "Using matplotlib backend: Qt5Agg\n"
     ]
    }
   ],
   "source": [
    "import cv2\n",
    "import numpy as np\n",
    "import matplotlib.pyplot as plt\n",
    "import matplotlib.image as mpimg\n",
    "import os\n",
    "from PIL import Image\n",
    "from moviepy.editor import VideoFileClip\n",
    "%matplotlib auto"
   ]
  },
  {
   "cell_type": "code",
   "execution_count": 2,
   "metadata": {},
   "outputs": [],
   "source": [
    "def make_coordinates(image, line_parameters, rcnt, lcnt):\n",
    "    slope, intercept = line_parameters\n",
    "    #기울기   절편\n",
    "    try:\n",
    "        y1 = image.shape[0] #height\n",
    "        y2 = int(y1*(3/5)) #height의 3/5까지 올라갈 때까지 탐색...\n",
    "        x1 = int((y1 - intercept)/slope)\n",
    "        x2 = int((y2 - intercept)/slope)\n",
    "        return np.array([x1, y1, x2, y2]), rcnt, lcnt\n",
    "    except OverflowError:\n",
    "        return np.array([0, 0, 0, 0]), rcnt, lcnt"
   ]
  },
  {
   "cell_type": "code",
   "execution_count": 3,
   "metadata": {},
   "outputs": [],
   "source": [
    "def average_slope_intercept(image, lines, rcnt, lcnt, maximum):\n",
    "    left_fit = [] #왼쪽 line 의 평균\n",
    "    right_fit = [] #오른쪽 line의 평균좌표\n",
    "    try:\n",
    "        for line in lines:\n",
    "            x1, y1, x2, y2 = line.reshape(4)\n",
    "            parameters = np.polyfit((x1, x2), (y1, y2), 1)\n",
    "            slope = parameters[0]\n",
    "            intercept = parameters[1]\n",
    "\n",
    "            if (-1)*maximum < slope < -0.2: #line의 기울기가 음수인 경우\n",
    "                left_fit.append((slope, intercept))\n",
    "                lcnt = 0\n",
    "                #print('left slope', slope)\n",
    "            if maximum > slope > 0.2: #line의 기울기가 양수인 경우\n",
    "                right_fit.append((slope, intercept))\n",
    "                rcnt = 0\n",
    "            #if slope >= 2.0 or slope <= -2.0 : \n",
    "                #print(\"can't detect!\")\n",
    "            #print(slope)\n",
    "    except TypeError:\n",
    "        left_fit_average = []\n",
    "        right_fit_average = []\n",
    "    \n",
    "    #위 모든 값들을 평균하여서 기울기와 y절편 계산하기\n",
    "    left_fit_average = np.average(left_fit, axis=0)\n",
    "    right_fit_average = np.average(right_fit, axis=0)\n",
    "    \n",
    "    if left_fit_average != []:\n",
    "        left_line, rcnt, lcnt = make_coordinates(image, left_fit_average, rcnt, lcnt)\n",
    "    else: \n",
    "        left_line = np.array([0, 0, 0, 0])\n",
    "    if right_fit_average != []:\n",
    "        right_line, rcnt, lcnt = make_coordinates(image, right_fit_average, rcnt, lcnt)\n",
    "    else:\n",
    "        right_line = np.array([0, 0, 0, 0])\n",
    "    if right_fit == []: rcnt += 1\n",
    "    else: rcnt = 0\n",
    "    if left_fit == []: lcnt += 1\n",
    "    else: lcnt = 0\n",
    "    #print(left_fit)\n",
    "    return np.array([left_line, right_line]), rcnt, lcnt\n"
   ]
  },
  {
   "cell_type": "code",
   "execution_count": 4,
   "metadata": {},
   "outputs": [],
   "source": [
    "def canny(image):\n",
    "    gray = cv2.cvtColor(image, cv2.COLOR_RGB2GRAY)\n",
    "    #Second. Gaussian Blur (to Reduce Noise)\n",
    "    blur = cv2.GaussianBlur(gray, (5, 5), 0) #5x5 kernel size로 convolution 한다.\n",
    "    #Apply Canny Method\n",
    "    canny = cv2.Canny(blur, 10, 150) #급격한 변화만을 남겨 준다 (흰색으로 표시됨)\n",
    "                                 #gradient 를 극단적으로 취해 준다\n",
    "    return canny"
   ]
  },
  {
   "cell_type": "code",
   "execution_count": 5,
   "metadata": {},
   "outputs": [],
   "source": [
    "def display_lines(image, lines):\n",
    "    line_image = np.zeros_like(image)\n",
    "    if lines is not None: # ==not empty\n",
    "        for line in lines:\n",
    "            x1, y1, x2, y2 = line.reshape(4) #2d array 를 1d array 로 변환\n",
    "            #기울기\n",
    "            s = (y2-y1)/(x2-x1)\n",
    "            if 0.2 < abs(s) < 2.0 : cv2.line(line_image, (x1, y1), (x2, y2), (255, 0, 0), 10)\n",
    "    return line_image"
   ]
  },
  {
   "cell_type": "code",
   "execution_count": 16,
   "metadata": {},
   "outputs": [],
   "source": [
    "def region_of_interest(image):\n",
    "    height = image.shape[0] #very simillar to 700\n",
    "    width = image.shape[1]\n",
    "    mwidth = width / 2\n",
    "    polygons = np.array([\n",
    "        [(int(width * 0 / 9), height), (int(width * 8 / 9), height), (int(mwidth), int(height * 5/9))]\n",
    "    ])\n",
    "    \n",
    "    mask = np.zeros_like(image) #이미지와 같은 모양(pixel)으로 0배열을 만든다.\n",
    "    cv2.fillPoly(mask, polygons, 255) #윤곽 만들기\n",
    "    masked_image = cv2.bitwise_and(image, mask)\n",
    "    return masked_image\n"
   ]
  },
  {
   "cell_type": "code",
   "execution_count": 7,
   "metadata": {},
   "outputs": [],
   "source": [
    "def ishide(image):\n",
    "    avg = np.array([0, 0, 0])\n",
    "    s = image.shape\n",
    "    array_convert = np.array(image)\n",
    "    width = s[1]\n",
    "    height = s[0]\n",
    "    for j in range(int(width*1/5), int(width*4/5)):\n",
    "        for i in range(int(height*2/3), int(height)):\n",
    "            bgr = array_convert[int(i), int(j)]\n",
    "            avg[0] += bgr[2]\n",
    "            avg[1] += bgr[1]\n",
    "            avg[2] += bgr[0]\n",
    "    for i in range(3):\n",
    "        avg[i] = avg[i] / (width * (height / 3))\n",
    "    return avg"
   ]
  },
  {
   "cell_type": "code",
   "execution_count": 8,
   "metadata": {},
   "outputs": [],
   "source": [
    "def amplify(image):\n",
    "    s = image.shape\n",
    "    #img = image.shape\n",
    "    width = s[1]\n",
    "    height = s[0]\n",
    "    im = np.array(cv2.imread('pic.jpg'))\n",
    "\n",
    "    for j in range(int(width*4/5)):\n",
    "        for i in range(int(height/2), int(height)):\n",
    "            bgr = im[int(i), int(j)]\n",
    "            if bgr[2] > 55 and bgr[2] < 120: im[int(i)][int(j)] = [255, 255, 255]\n",
    "            #except IndexError: \n",
    "    return im"
   ]
  },
  {
   "cell_type": "code",
   "execution_count": 28,
   "metadata": {
    "scrolled": true
   },
   "outputs": [
    {
     "name": "stdout",
     "output_type": "stream",
     "text": [
      "왼쪽 점선\n",
      "오른쪽 점선\n",
      "왼쪽 점선\n",
      "오른쪽 점선\n",
      "왼쪽 점선\n",
      "오른쪽 점선\n",
      "오른쪽 점선\n",
      "왼쪽 점선\n",
      "왼쪽 점선\n",
      "왼쪽 점선\n",
      "오른쪽 점선\n",
      "왼쪽 점선\n",
      "오른쪽 점선\n",
      "왼쪽 점선\n",
      "왼쪽 점선\n",
      "오른쪽 점선\n",
      "왼쪽 점선\n",
      "왼쪽 점선\n",
      "오른쪽 점선\n",
      "왼쪽 점선\n",
      "오른쪽 점선\n",
      "왼쪽 점선\n",
      "오른쪽 점선\n",
      "왼쪽 점선\n",
      "왼쪽 점선\n",
      "왼쪽 점선\n",
      "오른쪽 점선\n",
      "왼쪽 점선\n",
      "왼쪽 점선\n",
      "오른쪽 점선\n",
      "왼쪽 점선\n",
      "오른쪽 점선\n",
      "왼쪽 점선\n",
      "왼쪽 점선\n",
      "오른쪽 점선\n",
      "왼쪽 점선\n",
      "왼쪽 점선\n",
      "왼쪽 점선\n",
      "왼쪽 점선\n",
      "왼쪽 점선\n",
      "오른쪽 점선\n"
     ]
    }
   ],
   "source": [
    "cap = cv2.VideoCapture(\"D:/#Datasets/2019-1/car_back_video_2.mp4\")\n",
    "rcnt = 0\n",
    "lcnt = 0\n",
    "color_avg_i = 0\n",
    "out = None\n",
    "maximum = 2.0\n",
    "count = 0\n",
    "while(cap.isOpened()):\n",
    "    #try:\n",
    "    flag = True\n",
    "    _, frame = cap.read()\n",
    "    #save 'frame' to jpg file\n",
    "    cv2.imwrite('pic.jpg', frame)\n",
    "    frame_o = frame\n",
    "    #if color_avg_i == 0: color_avg_i = sum(ishide(frame))\n",
    "    #if abs(sum(ishide(frame)) - color_avg_i) >= 90: \n",
    "    #    frame = amplify(frame)\n",
    "    #    print('wait...amplifying')\n",
    "\n",
    "    #frame = cv2.imread('pic.jpg')\n",
    "    #Firstly, convert image to grayscale\n",
    "    canny_image = canny(frame)\n",
    "    cropped_image = region_of_interest(canny_image)\n",
    "\n",
    "    #Hough Transform (Region of Interest) and draw lines\n",
    "    lines = cv2.HoughLinesP(cropped_image, 2, np.pi/180, 100, np.array([]),\n",
    "                            minLineLength = 40, maxLineGap = 5)\n",
    "    averaged_lines, rcnt, lcnt = average_slope_intercept(frame, lines, rcnt, lcnt, maximum)\n",
    "    for item in averaged_lines:\n",
    "        if max(item) > 10000: flag = False\n",
    "    if flag == True : \n",
    "        line_image = display_lines(frame, averaged_lines)\n",
    "\n",
    "    #averaged_lines를 통해서 line을 조금 더 부드럽게 만들기\n",
    "    combo_image = cv2.addWeighted(frame_o, 0.8, line_image, 1, 1) \n",
    "                #가중치 부여해 이미지 합치기\n",
    "    color = [255, 0, 0]\n",
    "    if rcnt >= 5 :\n",
    "        if rcnt % 5 == 0: \n",
    "            print('오른쪽 점선')\n",
    "            #cv2.putText(combo_image, '오른쪽 점선', (100, 0), cv2.FONT_HERSHEY_SIMPLEX, 0.5, color, 2)\n",
    "    if lcnt >= 5:\n",
    "        if lcnt % 5 == 0: \n",
    "            print('왼쪽 점선')\n",
    "            #cv2.putText(combo_image, '왼쪽 점선', (60, 0), cv2.FONT_HERSHEY_SIMPLEX, 0.5, color, 2)\n",
    "    cv2.imshow(\"result\", combo_image)\n",
    "    if cv2.waitKey(1) == ord('q'): break #video 이므로 1ms씩 기다리기\n",
    "    fourcc = cv2.VideoWriter_fourcc(*\"MJPG\")\n",
    "    if out is None:\n",
    "        out = cv2.VideoWriter('output.avi', fourcc, 30,\n",
    "                          (frame_o.shape[1], frame_o.shape[0]), True)\n",
    "    #out.write(combo_image)     \n",
    "    count += 1\n",
    "    #if count == 700 : break\n",
    "    #except error : break\n",
    "out.release()\n",
    "cap.release()\n",
    "cv2.destroyAllWindows()"
   ]
  },
  {
   "cell_type": "code",
   "execution_count": null,
   "metadata": {},
   "outputs": [],
   "source": []
  }
 ],
 "metadata": {
  "kernelspec": {
   "display_name": "Python 3",
   "language": "python",
   "name": "python3"
  },
  "language_info": {
   "codemirror_mode": {
    "name": "ipython",
    "version": 3
   },
   "file_extension": ".py",
   "mimetype": "text/x-python",
   "name": "python",
   "nbconvert_exporter": "python",
   "pygments_lexer": "ipython3",
   "version": "3.7.3"
  }
 },
 "nbformat": 4,
 "nbformat_minor": 2
}
