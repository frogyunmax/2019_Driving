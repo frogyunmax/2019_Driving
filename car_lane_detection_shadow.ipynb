{
 "cells": [
  {
   "cell_type": "markdown",
   "metadata": {},
   "source": [
    "## car_lane_detection_shadow\n",
    "### 2019-1 과제연구\n",
    "#### : 그림자가 있을 때 차선을 인식하도록 개선한 코드 (사진)\n",
    "\n",
    "***"
   ]
  },
  {
   "cell_type": "code",
   "execution_count": 42,
   "metadata": {},
   "outputs": [
    {
     "name": "stdout",
     "output_type": "stream",
     "text": [
      "Using matplotlib backend: Qt5Agg\n"
     ]
    }
   ],
   "source": [
    "import numpy as np\n",
    "import cv2\n",
    "import matplotlib.image as mpimg\n",
    "import matplotlib.pyplot as plt\n",
    "from sklearn.cluster import KMeans\n",
    "from PIL import Image\n",
    "\n",
    "%matplotlib auto"
   ]
  },
  {
   "cell_type": "code",
   "execution_count": 3,
   "metadata": {},
   "outputs": [],
   "source": [
    "def make_coordinates(image, line_parameters):\n",
    "    slope, intercept = line_parameters\n",
    "    #기울기   절편\n",
    "    try:\n",
    "        y1 = image.shape[0] #height\n",
    "        y2 = int(y1*(3/5)) #height의 3/5까지 올라갈 때까지 탐색...\n",
    "        x1 = int((y1 - intercept)/slope)\n",
    "        x2 = int((y2 - intercept)/slope)\n",
    "        return np.array([x1, y1, x2, y2])\n",
    "    except OverflowError:\n",
    "        return np.array([0, 0, 0, 0])"
   ]
  },
  {
   "cell_type": "code",
   "execution_count": 4,
   "metadata": {},
   "outputs": [],
   "source": [
    "def average_slope_intercept(image, lines):\n",
    "    left_fit = [] #왼쪽 line 의 평균\n",
    "    right_fit = [] #오른쪽 line의 평균좌표\n",
    "    try:\n",
    "        for line in lines:\n",
    "            x1, y1, x2, y2 = line.reshape(4)\n",
    "            parameters = np.polyfit((x1, x2), (y1, y2), 1)\n",
    "            slope = parameters[0]\n",
    "            intercept = parameters[1]\n",
    "\n",
    "            if slope < -0.6: #line의 기울기가 음수인 경우\n",
    "                left_fit.append((slope, intercept))\n",
    "                #print('left slope', slope)\n",
    "            if 18 > slope > 0.6: #line의 기울기가 양수인 경우\n",
    "                right_fit.append((slope, intercept))\n",
    "            if slope >= 18:\n",
    "                print(\"can't detect!\")\n",
    "            cnt = 0 #cnt 초기화\n",
    "\n",
    "    except TypeError:\n",
    "        left_fit_average = []\n",
    "        right_fit_average = []\n",
    "    \n",
    "    #위 모든 값들을 평균하여서 기울기와 y절편 계산하기\n",
    "    left_fit_average = np.average(left_fit, axis=0)\n",
    "    right_fit_average = np.average(right_fit, axis=0)\n",
    "    \n",
    "    if left_fit_average != []:\n",
    "        left_line = make_coordinates(image, left_fit_average)\n",
    "    else: \n",
    "        left_line = np.array([0, 0, 0, 0])\n",
    "    if right_fit_average != []:\n",
    "        right_line = make_coordinates(image, right_fit_average)\n",
    "    else:\n",
    "        right_line = np.array([0, 0, 0, 0])\n",
    "    #print(left_fit)\n",
    "    return np.array([left_line, right_line])\n"
   ]
  },
  {
   "cell_type": "code",
   "execution_count": 5,
   "metadata": {},
   "outputs": [],
   "source": [
    "def canny(image):\n",
    "    gray = cv2.cvtColor(image, cv2.COLOR_RGB2GRAY)\n",
    "    blur = cv2.GaussianBlur(gray, (5, 5), 0) \n",
    "    canny = cv2.Canny(blur, 10, 150)\n",
    "    return canny"
   ]
  },
  {
   "cell_type": "code",
   "execution_count": 6,
   "metadata": {},
   "outputs": [],
   "source": [
    "def display_lines(image, lines):\n",
    "    line_image = np.zeros_like(image)\n",
    "    if lines is not None: # ==not empty\n",
    "        for line in lines:\n",
    "            x1, y1, x2, y2 = line.reshape(4) #2d array 를 1d array 로 변환\n",
    "            cv2.line(line_image, (x1, y1), (x2, y2), (255, 0, 0), 10)\n",
    "    return line_image"
   ]
  },
  {
   "cell_type": "code",
   "execution_count": 13,
   "metadata": {},
   "outputs": [],
   "source": [
    "def region_of_interest(image):\n",
    "    height = image.shape[0] \n",
    "    width = image.shape[1]\n",
    "    mwidth = width / 2\n",
    "    polygons = np.array([\n",
    "        [(int(width * 1 / 9), height), (int(width * 8 / 9), height), (int(mwidth), int(height * 3/9))]\n",
    "    ])\n",
    "    \n",
    "    mask = np.zeros_like(image) #이미지와 같은 모양(pixel)으로 0배열을 만든다.\n",
    "    cv2.fillPoly(mask, polygons, 255) #윤곽 만들기\n",
    "    masked_image = cv2.bitwise_and(image, mask)\n",
    "    return masked_image"
   ]
  },
  {
   "cell_type": "markdown",
   "metadata": {},
   "source": [
    "### 그림자 있을때 인식"
   ]
  },
  {
   "cell_type": "code",
   "execution_count": 109,
   "metadata": {},
   "outputs": [
    {
     "name": "stderr",
     "output_type": "stream",
     "text": [
      "C:\\Users\\User\\Anaconda3\\lib\\site-packages\\ipykernel_launcher.py:28: DeprecationWarning: elementwise comparison failed; this will raise an error in the future.\n",
      "C:\\Users\\User\\Anaconda3\\lib\\site-packages\\ipykernel_launcher.py:32: DeprecationWarning: elementwise comparison failed; this will raise an error in the future.\n"
     ]
    },
    {
     "data": {
      "text/plain": [
       "-1"
      ]
     },
     "execution_count": 109,
     "metadata": {},
     "output_type": "execute_result"
    }
   ],
   "source": [
    "def amplify(image):\n",
    "    s = image.shape\n",
    "    #img = image.shape\n",
    "    width = s[1]\n",
    "    height = s[0]\n",
    "    im = cv2.imread('test_image_.jpg')\n",
    "\n",
    "    for j in range(int(width)):\n",
    "        for i in range(int(height)):\n",
    "            bgr = im[int(i), int(j)]\n",
    "            if bgr[2] > 55 and bgr[2] < 120: im[int(i)][int(j)] = [255, 255, 255]\n",
    "            #except IndexError: \n",
    "    return im\n",
    "    \n",
    "#bgr순서\n",
    "frame = cv2.imread('test_image_.jpg')\n",
    "img = amplify(frame)\n",
    "lane_image = np.copy(frame)\n",
    "canny_img = canny(img)\n",
    "cropped_image = region_of_interest(canny_img)\n",
    "cv2.imwrite('pic2.jpg', img)\n",
    "\n",
    "#Hough Transform (Region of Interest) and draw lines\n",
    "lines = cv2.HoughLinesP(cropped_image, 2, np.pi/180, 100, np.array([]),minLineLength = 100, maxLineGap = 5)\n",
    "averaged_lines = average_slope_intercept(lane_image, lines)\n",
    "line_image = display_lines(lane_image, averaged_lines)\n",
    "#averaged_lines를 통해서 line을 조금 더 부드럽게 만들기\n",
    "combo_image = cv2.addWeighted(lane_image, 0.8, line_image, 1, 1) \n",
    "              #가중치 부여해 이미지 합치기\n",
    "    \n",
    "cv2.imshow(\"result\", combo_image)\n",
    "cv2.waitKey(0)"
   ]
  },
  {
   "cell_type": "markdown",
   "metadata": {},
   "source": [
    "### 그냥 인식"
   ]
  },
  {
   "cell_type": "code",
   "execution_count": 108,
   "metadata": {},
   "outputs": [
    {
     "name": "stderr",
     "output_type": "stream",
     "text": [
      "C:\\Users\\User\\Anaconda3\\lib\\site-packages\\numpy\\lib\\function_base.py:392: RuntimeWarning: Mean of empty slice.\n",
      "  avg = a.mean(axis)\n",
      "C:\\Users\\User\\Anaconda3\\lib\\site-packages\\numpy\\core\\_methods.py:85: RuntimeWarning: invalid value encountered in double_scalars\n",
      "  ret = ret.dtype.type(ret / rcount)\n",
      "C:\\Users\\User\\Anaconda3\\lib\\site-packages\\ipykernel_launcher.py:28: DeprecationWarning: The truth value of an empty array is ambiguous. Returning False, but in future this will result in an error. Use `array.size > 0` to check that an array is not empty.\n",
      "C:\\Users\\User\\Anaconda3\\lib\\site-packages\\ipykernel_launcher.py:32: DeprecationWarning: elementwise comparison failed; this will raise an error in the future.\n"
     ]
    },
    {
     "data": {
      "text/plain": [
       "113"
      ]
     },
     "execution_count": 108,
     "metadata": {},
     "output_type": "execute_result"
    }
   ],
   "source": [
    "frame = cv2.imread('test_image_.jpg')\n",
    "lane_image = np.copy(frame)\n",
    "canny_img = canny(frame)\n",
    "cropped_image = region_of_interest(canny_img)\n",
    "\n",
    "#Hough Transform (Region of Interest) and draw lines\n",
    "lines = cv2.HoughLinesP(cropped_image, 2, np.pi/180, 100, np.array([]),minLineLength = 100, maxLineGap = 5)\n",
    "averaged_lines = average_slope_intercept(lane_image, lines)\n",
    "line_image = display_lines(lane_image, averaged_lines)\n",
    "#averaged_lines를 통해서 line을 조금 더 부드럽게 만들기\n",
    "combo_image = cv2.addWeighted(lane_image, 0.8, line_image, 1, 1) \n",
    "              #가중치 부여해 이미지 합치기\n",
    "    \n",
    "cv2.imshow(\"result\", combo_image)\n",
    "cv2.waitKey(0)"
   ]
  },
  {
   "cell_type": "markdown",
   "metadata": {},
   "source": [
    "***\n",
    "### Calculating RGB Averarge (K-Means Clustering"
   ]
  },
  {
   "cell_type": "code",
   "execution_count": 113,
   "metadata": {},
   "outputs": [
    {
     "name": "stdout",
     "output_type": "stream",
     "text": [
      "[132.61586558421746, 125.41924898833015, 128.75397289875298]\n"
     ]
    }
   ],
   "source": [
    "image_path = \"test_rgb_2.jpg\"\n",
    "avg = [0, 0, 0]\n",
    "image = cv2.imread(image_path)\n",
    "s = image.shape\n",
    "width = s[1]\n",
    "height = s[0]\n",
    "\n",
    "for j in range(int(width)):\n",
    "    for i in range(int(height)):\n",
    "        bgr = image[int(i), int(j)]\n",
    "        avg[0] += bgr[2]\n",
    "        avg[1] += bgr[1]\n",
    "        avg[2] += bgr[0]\n",
    "for i in range(3):\n",
    "    avg[i] = avg[i] / (width * height)\n",
    "print(avg)"
   ]
  },
  {
   "cell_type": "code",
   "execution_count": null,
   "metadata": {},
   "outputs": [],
   "source": []
  }
 ],
 "metadata": {
  "kernelspec": {
   "display_name": "Python 3",
   "language": "python",
   "name": "python3"
  },
  "language_info": {
   "codemirror_mode": {
    "name": "ipython",
    "version": 3
   },
   "file_extension": ".py",
   "mimetype": "text/x-python",
   "name": "python",
   "nbconvert_exporter": "python",
   "pygments_lexer": "ipython3",
   "version": "3.7.3"
  }
 },
 "nbformat": 4,
 "nbformat_minor": 2
}
